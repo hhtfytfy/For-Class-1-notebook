{
 "cells": [
  {
   "cell_type": "markdown",
   "id": "a68c0a27-c2cb-4750-bbea-bb030b1c8102",
   "metadata": {
    "tags": []
   },
   "source": [
    "# Data Science Tools and Ecosystem"
   ]
  },
  {
   "cell_type": "markdown",
   "id": "92ca78ae-2660-4813-961f-8e7d1df8c9c6",
   "metadata": {},
   "source": [
    "In this notebook, Data Science Tools and Ecosystem are summarized."
   ]
  },
  {
   "cell_type": "markdown",
   "id": "ee9de6db-b4d2-4fe5-8b27-398f3f2d8823",
   "metadata": {},
   "source": [
    "**Objectives:**\n",
    "\n",
    "- List popular languages for Data Science\n",
    "- List popular libraries for Data Science\n",
    "- List open source Data Science tools"
   ]
  },
  {
   "cell_type": "markdown",
   "id": "787cfc11-940c-4101-ab09-0e1bdba43328",
   "metadata": {},
   "source": [
    "Some of the popular languages that Data Scientists use are:\n",
    "1. Python\n",
    "2. R\n",
    "3. SQL   "
   ]
  },
  {
   "cell_type": "markdown",
   "id": "b64ae91c-9af2-4764-814c-d7dcad328a18",
   "metadata": {},
   "source": [
    "Some of the commonly used libraries used by Data Scientists include:\n",
    "1. NumPy\n",
    "2. Matplotlib\n",
    "3. SciPy"
   ]
  },
  {
   "cell_type": "markdown",
   "id": "959ecd2f-c81c-448c-90bc-b1c62ee60611",
   "metadata": {
    "tags": []
   },
   "source": [
    "| Data Science Tools|\n",
    "|------------------|\n",
    "| Apache Hadoop|\n",
    "| TensorFlow|\n",
    "| Scikit-learn|"
   ]
  },
  {
   "cell_type": "markdown",
   "id": "5d2b931d-b8bb-44bd-a705-f683854fc4c4",
   "metadata": {},
   "source": [
    "### Below are a few examples of evaluating arithmetic expressions in Python"
   ]
  },
  {
   "cell_type": "code",
   "execution_count": 2,
   "id": "9c31b767-f919-40b0-b07e-e4a23aebd271",
   "metadata": {
    "tags": []
   },
   "outputs": [
    {
     "data": {
      "text/plain": [
       "17"
      ]
     },
     "execution_count": 2,
     "metadata": {},
     "output_type": "execute_result"
    }
   ],
   "source": [
    "#This a simple arithmetic expression to mutiply then add integers\n",
    "(3*4)+5"
   ]
  },
  {
   "cell_type": "code",
   "execution_count": 4,
   "id": "a88736e7-4949-4835-82a3-57409b727697",
   "metadata": {
    "tags": []
   },
   "outputs": [
    {
     "data": {
      "text/plain": [
       "3"
      ]
     },
     "execution_count": 4,
     "metadata": {},
     "output_type": "execute_result"
    }
   ],
   "source": [
    "#This will convert 200 minutes to hours by dividing by 60\n",
    "200//60"
   ]
  },
  {
   "cell_type": "markdown",
   "id": "512d0615-ef95-4187-a082-0a4ef372746d",
   "metadata": {},
   "source": [
    "## Author\n",
    "Carson Taylor"
   ]
  }
 ],
 "metadata": {
  "kernelspec": {
   "display_name": "Python",
   "language": "python",
   "name": "conda-env-python-py"
  },
  "language_info": {
   "codemirror_mode": {
    "name": "ipython",
    "version": 3
   },
   "file_extension": ".py",
   "mimetype": "text/x-python",
   "name": "python",
   "nbconvert_exporter": "python",
   "pygments_lexer": "ipython3",
   "version": "3.7.12"
  }
 },
 "nbformat": 4,
 "nbformat_minor": 5
}
